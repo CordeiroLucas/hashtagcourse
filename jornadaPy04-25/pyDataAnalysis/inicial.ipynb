{
 "cells": [
  {
   "cell_type": "markdown",
   "metadata": {},
   "source": [
    "# Python Insights - Analisando Dados com Python\n",
    "\n",
    "### Case - Cancelamento de Clientes\n",
    "\n",
    "Você foi contratado por uma empresa com mais de 800 mil clientes para um projeto de Dados. Recentemente a empresa percebeu que da sua base total de clientes, a maioria são clientes inativos, ou seja, que já cancelaram o serviço.\n",
    "\n",
    "Precisando melhorar seus resultados ela quer conseguir entender os principais motivos desses cancelamentos e quais as ações mais eficientes para reduzir esse número.\n",
    "\n",
    "Dados e arquivos da atividade: https://drive.google.com/drive/folders/1uDesZePdkhiraJmiyeZ-w5tfc8XsNYFZ?usp=drive_link"
   ]
  },
  {
   "cell_type": "markdown",
   "metadata": {},
   "source": [
    "***Tratamento de Dados***"
   ]
  },
  {
   "cell_type": "code",
   "execution_count": null,
   "metadata": {},
   "outputs": [],
   "source": [
    "import pandas as pd\n",
    "\n",
    "## Cancelamentos-compact é uma versão simplificada do formato do arquivo utilizado\n",
    "tabela = pd.read_csv(\"cancelamentos.csv\")\n",
    "\n",
    "## Remover Coluna Inútil\n",
    "tabela = tabela.drop(columns=\"CustomerID\")\n",
    "# Remover Linhas que contém informações nulas\n",
    "tabela = tabela.dropna()"
   ]
  },
  {
   "cell_type": "markdown",
   "metadata": {},
   "source": [
    "***Verificando Taxa de Cancelamento***"
   ]
  },
  {
   "cell_type": "code",
   "execution_count": null,
   "metadata": {},
   "outputs": [
    {
     "data": {
      "text/plain": [
       "cancelou\n",
       "1.0    499993\n",
       "0.0    381666\n",
       "Name: count, dtype: int64"
      ]
     },
     "metadata": {},
     "output_type": "display_data"
    },
    {
     "data": {
      "text/plain": [
       "cancelou\n",
       "1.0    56.7%\n",
       "0.0    43.3%\n",
       "Name: proportion, dtype: object"
      ]
     },
     "metadata": {},
     "output_type": "display_data"
    }
   ],
   "source": [
    "display(tabela[\"cancelou\"].value_counts())\n",
    "display(tabela[\"cancelou\"].value_counts(normalize=True).map(\"{:.1%}\".format))"
   ]
  },
  {
   "cell_type": "markdown",
   "metadata": {},
   "source": [
    "### Verificando Taxa de Cancelamento por Contratos"
   ]
  },
  {
   "cell_type": "code",
   "execution_count": 113,
   "metadata": {},
   "outputs": [
    {
     "data": {
      "text/plain": [
       "duracao_contrato\n",
       "Annual       354395\n",
       "Quarterly    353059\n",
       "Monthly      174205\n",
       "Name: count, dtype: int64"
      ]
     },
     "metadata": {},
     "output_type": "display_data"
    },
    {
     "data": {
      "text/plain": [
       "duracao_contrato\n",
       "Annual       40.2%\n",
       "Quarterly    40.0%\n",
       "Monthly      19.8%\n",
       "Name: proportion, dtype: object"
      ]
     },
     "metadata": {},
     "output_type": "display_data"
    },
    {
     "data": {
      "text/html": [
       "<div>\n",
       "<style scoped>\n",
       "    .dataframe tbody tr th:only-of-type {\n",
       "        vertical-align: middle;\n",
       "    }\n",
       "\n",
       "    .dataframe tbody tr th {\n",
       "        vertical-align: top;\n",
       "    }\n",
       "\n",
       "    .dataframe thead th {\n",
       "        text-align: right;\n",
       "    }\n",
       "</style>\n",
       "<table border=\"1\" class=\"dataframe\">\n",
       "  <thead>\n",
       "    <tr style=\"text-align: right;\">\n",
       "      <th></th>\n",
       "      <th>idade</th>\n",
       "      <th>tempo_como_cliente</th>\n",
       "      <th>frequencia_uso</th>\n",
       "      <th>ligacoes_callcenter</th>\n",
       "      <th>dias_atraso</th>\n",
       "      <th>total_gasto</th>\n",
       "      <th>meses_ultima_interacao</th>\n",
       "      <th>cancelou</th>\n",
       "    </tr>\n",
       "    <tr>\n",
       "      <th>duracao_contrato</th>\n",
       "      <th></th>\n",
       "      <th></th>\n",
       "      <th></th>\n",
       "      <th></th>\n",
       "      <th></th>\n",
       "      <th></th>\n",
       "      <th></th>\n",
       "      <th></th>\n",
       "    </tr>\n",
       "  </thead>\n",
       "  <tbody>\n",
       "    <tr>\n",
       "      <th>Annual</th>\n",
       "      <td>38.84</td>\n",
       "      <td>31.45</td>\n",
       "      <td>15.88</td>\n",
       "      <td>3.26</td>\n",
       "      <td>12.47</td>\n",
       "      <td>651.70</td>\n",
       "      <td>14.24</td>\n",
       "      <td>0.46</td>\n",
       "    </tr>\n",
       "    <tr>\n",
       "      <th>Monthly</th>\n",
       "      <td>41.55</td>\n",
       "      <td>30.54</td>\n",
       "      <td>15.50</td>\n",
       "      <td>4.99</td>\n",
       "      <td>15.01</td>\n",
       "      <td>550.62</td>\n",
       "      <td>15.48</td>\n",
       "      <td>1.00</td>\n",
       "    </tr>\n",
       "    <tr>\n",
       "      <th>Quarterly</th>\n",
       "      <td>38.83</td>\n",
       "      <td>31.42</td>\n",
       "      <td>15.89</td>\n",
       "      <td>3.27</td>\n",
       "      <td>12.46</td>\n",
       "      <td>651.43</td>\n",
       "      <td>14.23</td>\n",
       "      <td>0.46</td>\n",
       "    </tr>\n",
       "  </tbody>\n",
       "</table>\n",
       "</div>"
      ],
      "text/plain": [
       "                  idade tempo_como_cliente frequencia_uso ligacoes_callcenter  \\\n",
       "duracao_contrato                                                                \n",
       "Annual            38.84              31.45          15.88                3.26   \n",
       "Monthly           41.55              30.54          15.50                4.99   \n",
       "Quarterly         38.83              31.42          15.89                3.27   \n",
       "\n",
       "                 dias_atraso total_gasto meses_ultima_interacao cancelou  \n",
       "duracao_contrato                                                          \n",
       "Annual                 12.47      651.70                  14.24     0.46  \n",
       "Monthly                15.01      550.62                  15.48     1.00  \n",
       "Quarterly              12.46      651.43                  14.23     0.46  "
      ]
     },
     "metadata": {},
     "output_type": "display_data"
    }
   ],
   "source": [
    "## Total de pessoas por contrato\n",
    "display(tabela[\"duracao_contrato\"].value_counts())\n",
    "display(tabela[\"duracao_contrato\"].value_counts(normalize=True).map(\"{:.1%}\".format))\n",
    "\n",
    "display(tabela.groupby(\"duracao_contrato\").mean(numeric_only=True).map(\"{:.2f}\".format))"
   ]
  },
  {
   "cell_type": "markdown",
   "metadata": {},
   "source": [
    "Verificado que a taxa de cancelamento no contrato mensal é de 100%"
   ]
  },
  {
   "cell_type": "markdown",
   "metadata": {},
   "source": [
    "### Verificando a taxa de cancelamento sem o contrato mensal"
   ]
  },
  {
   "cell_type": "code",
   "execution_count": 114,
   "metadata": {},
   "outputs": [
    {
     "data": {
      "text/plain": [
       "cancelou\n",
       "0.0    53.9%\n",
       "1.0    46.1%\n",
       "Name: proportion, dtype: object"
      ]
     },
     "metadata": {},
     "output_type": "display_data"
    }
   ],
   "source": [
    "tabela = tabela[tabela[\"duracao_contrato\"] != \"Monthly\"]\n",
    "display(tabela[\"cancelou\"].value_counts(normalize=True).map(\"{:.1%}\".format))"
   ]
  },
  {
   "cell_type": "markdown",
   "metadata": {},
   "source": [
    "Constatado uma diminuição de 10% no total de cancelamentos ao remover o contrato mensal"
   ]
  },
  {
   "cell_type": "markdown",
   "metadata": {},
   "source": [
    "### Analisando Cancelamentos por Assinatura"
   ]
  },
  {
   "cell_type": "code",
   "execution_count": 115,
   "metadata": {},
   "outputs": [
    {
     "data": {
      "text/plain": [
       "assinatura\n",
       "Standard    0.339648\n",
       "Premium     0.338138\n",
       "Basic       0.322215\n",
       "Name: proportion, dtype: float64"
      ]
     },
     "metadata": {},
     "output_type": "display_data"
    },
    {
     "data": {
      "text/html": [
       "<div>\n",
       "<style scoped>\n",
       "    .dataframe tbody tr th:only-of-type {\n",
       "        vertical-align: middle;\n",
       "    }\n",
       "\n",
       "    .dataframe tbody tr th {\n",
       "        vertical-align: top;\n",
       "    }\n",
       "\n",
       "    .dataframe thead th {\n",
       "        text-align: right;\n",
       "    }\n",
       "</style>\n",
       "<table border=\"1\" class=\"dataframe\">\n",
       "  <thead>\n",
       "    <tr style=\"text-align: right;\">\n",
       "      <th></th>\n",
       "      <th>idade</th>\n",
       "      <th>tempo_como_cliente</th>\n",
       "      <th>frequencia_uso</th>\n",
       "      <th>ligacoes_callcenter</th>\n",
       "      <th>dias_atraso</th>\n",
       "      <th>total_gasto</th>\n",
       "      <th>meses_ultima_interacao</th>\n",
       "      <th>cancelou</th>\n",
       "    </tr>\n",
       "    <tr>\n",
       "      <th>assinatura</th>\n",
       "      <th></th>\n",
       "      <th></th>\n",
       "      <th></th>\n",
       "      <th></th>\n",
       "      <th></th>\n",
       "      <th></th>\n",
       "      <th></th>\n",
       "      <th></th>\n",
       "    </tr>\n",
       "  </thead>\n",
       "  <tbody>\n",
       "    <tr>\n",
       "      <th>Basic</th>\n",
       "      <td>38.90</td>\n",
       "      <td>32.32</td>\n",
       "      <td>15.88</td>\n",
       "      <td>3.31</td>\n",
       "      <td>12.51</td>\n",
       "      <td>648.64</td>\n",
       "      <td>14.24</td>\n",
       "      <td>0.48</td>\n",
       "    </tr>\n",
       "    <tr>\n",
       "      <th>Premium</th>\n",
       "      <td>38.82</td>\n",
       "      <td>30.98</td>\n",
       "      <td>15.89</td>\n",
       "      <td>3.24</td>\n",
       "      <td>12.43</td>\n",
       "      <td>653.34</td>\n",
       "      <td>14.23</td>\n",
       "      <td>0.45</td>\n",
       "    </tr>\n",
       "    <tr>\n",
       "      <th>Standard</th>\n",
       "      <td>38.79</td>\n",
       "      <td>31.05</td>\n",
       "      <td>15.88</td>\n",
       "      <td>3.25</td>\n",
       "      <td>12.45</td>\n",
       "      <td>652.57</td>\n",
       "      <td>14.23</td>\n",
       "      <td>0.45</td>\n",
       "    </tr>\n",
       "  </tbody>\n",
       "</table>\n",
       "</div>"
      ],
      "text/plain": [
       "            idade tempo_como_cliente frequencia_uso ligacoes_callcenter  \\\n",
       "assinatura                                                                \n",
       "Basic       38.90              32.32          15.88                3.31   \n",
       "Premium     38.82              30.98          15.89                3.24   \n",
       "Standard    38.79              31.05          15.88                3.25   \n",
       "\n",
       "           dias_atraso total_gasto meses_ultima_interacao cancelou  \n",
       "assinatura                                                          \n",
       "Basic            12.51      648.64                  14.24     0.48  \n",
       "Premium          12.43      653.34                  14.23     0.45  \n",
       "Standard         12.45      652.57                  14.23     0.45  "
      ]
     },
     "metadata": {},
     "output_type": "display_data"
    }
   ],
   "source": [
    "display(tabela[\"assinatura\"].value_counts(normalize=True))\n",
    "display(tabela.groupby(\"assinatura\").mean(numeric_only=True).map(\"{:.2f}\".format))\n",
    "\n",
    "## Informação não é substancial"
   ]
  },
  {
   "cell_type": "markdown",
   "metadata": {},
   "source": [
    "### Utilizando Gráficos para visualizar melhor"
   ]
  },
  {
   "cell_type": "code",
   "execution_count": null,
   "metadata": {},
   "outputs": [],
   "source": [
    "import plotly.express as px\n",
    "\n",
    "## Cria um gráfico de histograma com cores por cancelamento\n",
    "for coluna in tabela.columns:\n",
    "    print(f\"Tabela cancelamentos por {coluna}\")\n",
    "    grafico = px.histogram(tabela, x=coluna, color=\"cancelou\", width=600)\n",
    "    grafico.show()\n"
   ]
  },
  {
   "cell_type": "markdown",
   "metadata": {},
   "source": [
    "### Causas de Cancelamento\n",
    "\n",
    "- Clientes no contrato mensal tendem a cancelar muito mais facilmente\n",
    "\n",
    "- Clientes a partir de 50 anos\n",
    "\n",
    "- Clientes com mais de 4 ligações ao CallCenter\n",
    "\n",
    "- Clientes com mais de 20 dias de atraso no pagamento\n",
    "  \n",
    "***Como Resolver?***\n",
    "\n",
    "- Incentivar o cliente a adquirir os contratos Anuais e Trimestrais com bons descontos\n",
    "- Focar a publicidade do negócio para atrair clientes entre 20 e 50 anos\n",
    "- Agilizar o resolução de problemas no call center. Caso o cliente ligue pela 3 vez, facilitar o contato com algum responsável que tenha mais autoridade na empresa para solucionar mais facilmente o problema do cliente. (Exemplo)\n",
    "- Criar lembretes mais insistentes para clientes com atraso no pagamento. Exemplo: Notificação por email aos 5 dias de atraso; Ligação aos 10 dias... "
   ]
  },
  {
   "cell_type": "markdown",
   "metadata": {},
   "source": [
    "### Visualizar Possível Resultado"
   ]
  },
  {
   "cell_type": "code",
   "execution_count": null,
   "metadata": {},
   "outputs": [],
   "source": [
    "import plotly.express as px\n",
    "\n",
    "## Removendo pessoas com mais de 50 anos\n",
    "tabela = tabela[tabela[\"idade\"] <= 50]\n",
    "tabela = tabela[tabela[\"ligacoes_callcenter\"] <= 4]\n",
    "tabela = tabela[tabela[\"dias_atraso\"] <= 20]\n",
    "\n",
    "## Cria um gráfico de histograma com cores por cancelamento\n",
    "for coluna in tabela.columns:\n",
    "    print(f\"Tabela cancelamentos por {coluna}\")\n",
    "    grafico = px.histogram(tabela, x=coluna, color=\"cancelou\", width=600)\n",
    "    grafico.show()"
   ]
  },
  {
   "cell_type": "code",
   "execution_count": 118,
   "metadata": {},
   "outputs": [
    {
     "data": {
      "text/plain": [
       "cancelou\n",
       "0.0    87.9%\n",
       "1.0    12.1%\n",
       "Name: proportion, dtype: object"
      ]
     },
     "metadata": {},
     "output_type": "display_data"
    }
   ],
   "source": [
    "display(tabela[\"cancelou\"].value_counts(normalize=True).map(\"{:.1%}\".format))"
   ]
  },
  {
   "cell_type": "markdown",
   "metadata": {},
   "source": [
    "Após remover as possíveis maiores causas de cancelamento, a taxa de cancelamento total desceu de 56% para 12%!"
   ]
  }
 ],
 "metadata": {
  "kernelspec": {
   "display_name": ".venv",
   "language": "python",
   "name": "python3"
  },
  "language_info": {
   "codemirror_mode": {
    "name": "ipython",
    "version": 3
   },
   "file_extension": ".py",
   "mimetype": "text/x-python",
   "name": "python",
   "nbconvert_exporter": "python",
   "pygments_lexer": "ipython3",
   "version": "3.13.1"
  },
  "orig_nbformat": 4
 },
 "nbformat": 4,
 "nbformat_minor": 2
}
